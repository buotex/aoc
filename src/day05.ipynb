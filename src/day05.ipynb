{
 "cells": [
  {
   "cell_type": "code",
   "execution_count": 37,
   "metadata": {},
   "outputs": [
    {
     "data": {
      "text/plain": [
       "(output = [11981754], data = [314, 225, 1, 225, 6, 6, 1105, 1, 238, 225  …  0, 0, 0, 0, 0, 0, 0, 0, 0, 0])"
      ]
     },
     "execution_count": 37,
     "metadata": {},
     "output_type": "execute_result"
    }
   ],
   "source": [
    "using Test\n",
    "using Logging\n",
    "include(\"./computer.jl\")\n",
    "\n",
    "input_data = open(\"input05.txt\") do file\n",
    "    data = readline(file)\n",
    "    entries = split(data, \",\")\n",
    "    numbers = map(x->parse(Int64, x), entries)\n",
    "    numbers\n",
    "end\n",
    "\n",
    "@test run_program([3,0,99]).data[0:2] == [1,0,99]\n",
    "@test run_program([3, 7, 1, 7, 6, 6, 98, 0]).data[0:7] == [3, 7, 1, 7, 6, 6, 99, 1]\n",
    "@test run_program([1002,4,3,4,33]).data[0:4] == [1002,4,3,4,99]\n",
    "@test run_program([1101,100,-1,4,0]).data[0:4]  == [1101,100,-1,4,99]\n",
    "@test run_program([3,9,8,9,10,9,4,9,99,-1,8]).output == [0]\n",
    "@test run_program([3,9,8,9,10,9,4,9,99,-1,8],[8]).output == [1]\n",
    "@test run_program([3,12,6,12,15,1,13,14,13,4,13,99,-1,0,1,9]).output == [1]\n",
    "@test run_program([3,3,1105,-1,9,1101,0,0,12,4,12,99,1]).output == [1]\n",
    "run_program(input_data, [5])"
   ]
  },
  {
   "cell_type": "code",
   "execution_count": 21,
   "metadata": {},
   "outputs": [
    {
     "name": "stdout",
     "output_type": "stream",
     "text": [
      "search:\n",
      "\n",
      "Couldn't find \u001b[36mget_addr\u001b[39m\n",
      "Perhaps you meant getindex\n"
     ]
    },
    {
     "data": {
      "text/latex": [
       "No documentation found.\n",
       "\n",
       "Binding \\texttt{get\\_addr} does not exist.\n",
       "\n"
      ],
      "text/markdown": [
       "No documentation found.\n",
       "\n",
       "Binding `get_addr` does not exist.\n"
      ],
      "text/plain": [
       "  No documentation found.\n",
       "\n",
       "  Binding \u001b[36mget_addr\u001b[39m does not exist."
      ]
     },
     "execution_count": 21,
     "metadata": {},
     "output_type": "execute_result"
    }
   ],
   "source": [
    "? get_addr"
   ]
  },
  {
   "cell_type": "code",
   "execution_count": null,
   "metadata": {},
   "outputs": [],
   "source": []
  }
 ],
 "metadata": {
  "kernelspec": {
   "display_name": "Julia 1.3.0",
   "language": "julia",
   "name": "julia-1.3"
  },
  "language_info": {
   "file_extension": ".jl",
   "mimetype": "application/julia",
   "name": "julia",
   "version": "1.3.0"
  }
 },
 "nbformat": 4,
 "nbformat_minor": 4
}
