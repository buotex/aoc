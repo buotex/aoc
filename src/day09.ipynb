{
 "cells": [
  {
   "cell_type": "code",
   "execution_count": 18,
   "metadata": {},
   "outputs": [
    {
     "data": {
      "text/plain": [
       "(output = [74917], data = [1102, 34463338, 34463338, 63, 1007, 63, 34463338, 63, 1005, 63  …  0, 0, 0, 0, 0, 0, 0, 0, 0, 0])"
      ]
     },
     "execution_count": 18,
     "metadata": {},
     "output_type": "execute_result"
    }
   ],
   "source": [
    "using Test\n",
    "include(\"./computer.jl\")\n",
    "input_data = open(\"input09.txt\") do file\n",
    "    data = readline(file)\n",
    "    entries = split(data, \",\")\n",
    "    numbers = map(x->parse(Int64, x), entries)\n",
    "    numbers\n",
    "end\n",
    "\n",
    "#@test run_program([104,1125899906842624,99]).output == [1125899906842624]\n",
    "#@test run_program([1102,34915192,34915192,7,4,7,99,0]).output == [1219070632396864]\n",
    "#@test run_program([109,1,204,-1,1001,100,1,100,1008,100,16,101,1006,101,0,99]).output == [109,1,204,-1,1001,100,1,100,1008,100,16,101,1006,101,0,99]\n",
    "run_program(input_data, input=[2])\n"
   ]
  },
  {
   "cell_type": "code",
   "execution_count": null,
   "metadata": {},
   "outputs": [],
   "source": []
  }
 ],
 "metadata": {
  "kernelspec": {
   "display_name": "Julia 1.3.0",
   "language": "julia",
   "name": "julia-1.3"
  },
  "language_info": {
   "file_extension": ".jl",
   "mimetype": "application/julia",
   "name": "julia",
   "version": "1.3.0"
  }
 },
 "nbformat": 4,
 "nbformat_minor": 4
}
