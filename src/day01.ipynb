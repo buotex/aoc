{
 "cells": [
  {
   "cell_type": "code",
   "execution_count": 17,
   "metadata": {},
   "outputs": [
    {
     "ename": "UndefVarError",
     "evalue": "UndefVarError: numbers not defined",
     "output_type": "error",
     "traceback": [
      "UndefVarError: numbers not defined",
      "",
      "Stacktrace:",
      " [1] top-level scope at In[17]:27"
     ]
    }
   ],
   "source": [
    "using Test\n",
    "\n",
    "function fuel(x)\n",
    "floor(x / 3) - 2 \n",
    "end\n",
    "@test fuel(12) == 2\n",
    "@test fuel(14) == 2\n",
    "@test fuel(1969) == 654\n",
    "@test fuel(100756) == 33583\n",
    "function recursive_fuel(x)\n",
    "    req = fuel(x)\n",
    "    if req <= 0\n",
    "        return 0\n",
    "    end\n",
    "    return req + recursive_fuel(req)\n",
    "end\n",
    "\n",
    "@test recursive_fuel(14) == 2\n",
    "@test recursive_fuel(1969) == 966\n",
    "@test recursive_fuel(100756) == 50346\n",
    "\n",
    "\n",
    "s = open(\"input01.txt\") do file\n",
    "    lines = readlines(file)\n",
    "    numbers = map(x->parse(Int64, x), lines)\n",
    "    [func(convert(Int64, l)) for l in numbers] |> sum\n",
    "\n",
    "end\n",
    "\n"
   ]
  },
  {
   "cell_type": "code",
   "execution_count": null,
   "metadata": {},
   "outputs": [],
   "source": []
  }
 ],
 "metadata": {
  "kernelspec": {
   "display_name": "Julia 1.3.0",
   "language": "julia",
   "name": "julia-1.3"
  },
  "language_info": {
   "file_extension": ".jl",
   "mimetype": "application/julia",
   "name": "julia",
   "version": "1.3.0"
  }
 },
 "nbformat": 4,
 "nbformat_minor": 4
}
