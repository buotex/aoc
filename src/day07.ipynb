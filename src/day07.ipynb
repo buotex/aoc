{
 "cells": [
  {
   "cell_type": "code",
   "execution_count": 23,
   "metadata": {},
   "outputs": [],
   "source": [
    "using Test\n",
    "\n",
    "include(\"./computer.jl\")\n",
    "\n",
    "input_data = open(\"input07.txt\") do file\n",
    "    data = readline(file)\n",
    "    entries = split(data, \",\")\n",
    "    numbers = map(x->parse(Int64, x), entries)\n",
    "    numbers\n",
    "end\n",
    "\n",
    "\n",
    "input_data;"
   ]
  },
  {
   "cell_type": "code",
   "execution_count": 24,
   "metadata": {},
   "outputs": [
    {
     "data": {
      "text/plain": [
       "maxout_phasers_async (generic function with 2 methods)"
      ]
     },
     "execution_count": 24,
     "metadata": {},
     "output_type": "execute_result"
    }
   ],
   "source": [
    "function run_phasers_async(input_data, phaser_config::Array{Int64, 1})\n",
    "    tasks = []\n",
    "    num_phasers = length(phaser_config)\n",
    "\n",
    "    local input_value::Int64 = 0\n",
    "    local output_value::Int64 = 0\n",
    "    com_channels = [Channel{Int64}(Inf) for i = 1:num_phasers]\n",
    "    for (i::Int64, phase::Int64) in enumerate(phaser_config)\n",
    "        put!(com_channels[i], phase)\n",
    "\n",
    "    end\n",
    "    put!(com_channels[1], 0)\n",
    "    tasks = Task[]\n",
    "    \n",
    "    @sync for (i::Int64, phase::Int64) in enumerate(phaser_config)\n",
    "        # @info(\"$i, $input_value, $output_value\")\n",
    "        #@info(\"$input_data\")\n",
    "        out_channel_index = (i < num_phasers) ? i+1 : 1\n",
    "        task = @async run_program_async(input_data, com_channels[i], com_channels[out_channel_index])\n",
    "        push!(tasks, task)\n",
    "        #@info(\"$out.output\")\n",
    "    end\n",
    "    \n",
    "    output_value = take!(com_channels[1])\n",
    "    return output_value\n",
    "end\n",
    "\n",
    "function maxout_phasers_async(input_data, phaser_possibilities=5:9)\n",
    "    # generate 5-digit input\n",
    "    num_phasers = length(phaser_possibilities)\n",
    "\n",
    "    iterator = Iterators.product(ntuple(i->phaser_possibilities, num_phasers)...)\n",
    "    current_max = 0\n",
    "    current_conf = undef\n",
    "\n",
    "    \n",
    "    for it in iterator\n",
    "        if length(Set(it)) < num_phasers\n",
    "            continue\n",
    "        end\n",
    "        output_value = run_phasers_async(input_data, collect(it))\n",
    "        \n",
    "        if output_value > current_max\n",
    "            current_max = output_value\n",
    "            current_conf = it\n",
    "        end\n",
    "    end\n",
    "    return current_max, current_conf\n",
    "end"
   ]
  },
  {
   "cell_type": "code",
   "execution_count": 25,
   "metadata": {},
   "outputs": [
    {
     "data": {
      "text/plain": [
       "(1336480, (9, 6, 5, 7, 8))"
      ]
     },
     "execution_count": 25,
     "metadata": {},
     "output_type": "execute_result"
    }
   ],
   "source": [
    "test_data = [3,26,1001,26,-4,26,3,27,1002,27,2,27,1,27,26,\n",
    "27,4,27,1001,28,-1,28,1005,28,6,99,0,0,5]\n",
    "\n",
    "\n",
    "@test run_phasers_async(test_data, [9,8,7,6,5]) == 139629729\n",
    "maxout_phasers_async(input_data)"
   ]
  },
  {
   "cell_type": "code",
   "execution_count": 2,
   "metadata": {},
   "outputs": [
    {
     "name": "stdout",
     "output_type": "stream",
     "text": [
      "Task (runnable) @0x00007f5718372230\n",
      "taking value\n",
      "taken value: 5\n",
      "Task (runnable) @0x00007f57183724a0\n",
      "taking value\n",
      "taken value: 42\n",
      "taken value: 42\n",
      "taken value: 37\n"
     ]
    },
    {
     "data": {
      "text/plain": [
       "Task (done) @0x00007f57183724a0"
      ]
     },
     "execution_count": 2,
     "metadata": {},
     "output_type": "execute_result"
    }
   ],
   "source": [
    "channel1 = Channel{Int64}(Inf)\n",
    "channel2 = Channel{Int64}(Inf)\n",
    "channels = [channel1, channel2]\n",
    "put!(channel1, 5)\n",
    "\n",
    "function test_channel(channel_in, channel_out)\n",
    "    println(current_task())\n",
    "    println(\"taking value\")\n",
    "    value = take!(channel_in)\n",
    "    println(\"taken value: $value\")\n",
    "    put!(channel_out, 42)\n",
    "    value = take!(channel_in)\n",
    "    println(\"taken value: $value\")\n",
    "\n",
    "    put!(channel_out, 37)\n",
    "\n",
    "\n",
    "end\n",
    "\n",
    "@sync begin\n",
    "    @async test_channel(channels[1], channels[2])\n",
    "    @async test_channel(channels[2], channels[1])\n",
    "\n",
    "end\n"
   ]
  },
  {
   "cell_type": "code",
   "execution_count": null,
   "metadata": {},
   "outputs": [],
   "source": []
  },
  {
   "cell_type": "code",
   "execution_count": null,
   "metadata": {},
   "outputs": [],
   "source": []
  }
 ],
 "metadata": {
  "kernelspec": {
   "display_name": "Julia 1.3.0",
   "language": "julia",
   "name": "julia-1.3"
  },
  "language_info": {
   "file_extension": ".jl",
   "mimetype": "application/julia",
   "name": "julia",
   "version": "1.3.0"
  }
 },
 "nbformat": 4,
 "nbformat_minor": 4
}
