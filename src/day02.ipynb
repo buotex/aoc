{
 "cells": [
  {
   "cell_type": "code",
   "execution_count": 7,
   "metadata": {},
   "outputs": [
    {
     "name": "stdout",
     "output_type": "stream",
     "text": [
      "11590668\n",
      "inputs found!\n",
      "2254\n"
     ]
    }
   ],
   "source": [
    "using Test\n",
    "\n",
    "\n",
    "\n",
    "function opcodes!(data)\n",
    "    for i = 1:4:length(data)\n",
    "        op = data[i]\n",
    "        if op == 99\n",
    "            break\n",
    "        end\n",
    "        idx_1 = data[i+1] + 1\n",
    "        idx_2 = data[i+2] + 1\n",
    "        idx_t = data[i+3] + 1\n",
    "        if op == 1\n",
    "            data[idx_t] = data[idx_1] + data[idx_2]\n",
    "        elseif op == 2\n",
    "            data[idx_t] = data[idx_1] * data[idx_2]\n",
    "        else\n",
    "            error(\"Not implemented\")\n",
    "        end\n",
    "    end\n",
    "    return data\n",
    "end\n",
    "\n",
    "\n",
    "@test opcodes!([1,0,0,0,99]) == [2,0,0,0,99]\n",
    "@test opcodes!([1,1,1,4,99,5,6,0,99]) == [30,1,1,4,2,5,6,0,99]\n",
    "\n",
    "input_data = open(\"input02.txt\") do file\n",
    "    data = readline(file)\n",
    "    entries = split(data, \",\")\n",
    "    numbers = map(x->parse(Int64, x), entries)\n",
    "    numbers\n",
    "end\n",
    "working_data = copy(input_data)\n",
    "working_data[2] = 12\n",
    "working_data[3] = 2\n",
    "opcodes!(working_data)\n",
    "println(working_data[1])\n",
    "\n",
    "for (x,y) in [(x,y) for x=0:99, y=0:99]\n",
    "    working_data = copy(input_data)\n",
    "    working_data[2] = x\n",
    "    working_data[3] = y\n",
    "    result = opcodes!(working_data)[1]\n",
    "    if result == 19690720\n",
    "        println(\"inputs found!\")\n",
    "        println(x * 100 + y)\n",
    "    end\n",
    "end"
   ]
  },
  {
   "cell_type": "code",
   "execution_count": 6,
   "metadata": {},
   "outputs": [
    {
     "name": "stdout",
     "output_type": "stream",
     "text": [
      "(1, 1)(2, 1)(3, 1)(4, 1)(5, 1)(1, 2)(2, 2)(3, 2)(4, 2)(5, 2)(1, 3)(2, 3)(3, 3)(4, 3)(5, 3)(1, 4)(2, 4)(3, 4)(4, 4)(5, 4)(1, 5)(2, 5)(3, 5)(4, 5)(5, 5)"
     ]
    }
   ],
   "source": [
    "for (x,y) in [(x,y) for x=1:5, y=1:5]\n",
    "print((x,y))\n",
    "end"
   ]
  },
  {
   "cell_type": "code",
   "execution_count": null,
   "metadata": {},
   "outputs": [],
   "source": []
  }
 ],
 "metadata": {
  "kernelspec": {
   "display_name": "Julia 1.3.0",
   "language": "julia",
   "name": "julia-1.3"
  },
  "language_info": {
   "file_extension": ".jl",
   "mimetype": "application/julia",
   "name": "julia",
   "version": "1.3.0"
  }
 },
 "nbformat": 4,
 "nbformat_minor": 4
}
