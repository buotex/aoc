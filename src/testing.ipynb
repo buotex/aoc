{
 "cells": [
  {
   "cell_type": "code",
   "execution_count": 7,
   "metadata": {},
   "outputs": [
    {
     "name": "stdout",
     "output_type": "stream",
     "text": [
      "98% of the means lie in the estimated range: (0.4699578786448565, 0.5299822212367777)\n",
      "  7.662078 seconds (10.00 M allocations: 7.974 GiB, 3.77% gc time)\n"
     ]
    }
   ],
   "source": [
    "using Statistics\n",
    "@time begin\n",
    "    data = Float64[]\n",
    "for _ in 1:10^6\n",
    "group = Float64[]\n",
    "for _ in 1:5*10^2\n",
    "push!(group,rand())\n",
    "end\n",
    "push!(data,mean(group))\n",
    "end\n",
    "println(\"98% of the means lie in the estimated range: \",\n",
    "(quantile(data,0.01),quantile(data,0.99)) )\n",
    "end"
   ]
  },
  {
   "cell_type": "code",
   "execution_count": 13,
   "metadata": {},
   "outputs": [
    {
     "name": "stderr",
     "output_type": "stream",
     "text": [
      "┌ Info: Precompiling Roots [f2b01f46-fcfa-551c-844a-d8ac1e96c665]\n",
      "└ @ Base loading.jl:1273\n"
     ]
    }
   ],
   "source": [
    "using Roots\n",
    "find_zeros()"
   ]
  },
  {
   "cell_type": "code",
   "execution_count": 16,
   "metadata": {},
   "outputs": [
    {
     "data": {
      "text/plain": [
       "3×3 Array{Float64,2}:\n",
       " 0.4375  0.3125  0.25\n",
       " 0.4375  0.3125  0.25\n",
       " 0.4375  0.3125  0.25"
      ]
     },
     "execution_count": 16,
     "metadata": {},
     "output_type": "execute_result"
    }
   ],
   "source": [
    "P = [0.5 0.4 0.1;\n",
    "     0.3 0.2 0.5;\n",
    "     0.5 0.3 0.2]\n",
    "test = P^100"
   ]
  },
  {
   "cell_type": "code",
   "execution_count": null,
   "metadata": {},
   "outputs": [],
   "source": []
  }
 ],
 "metadata": {
  "kernelspec": {
   "display_name": "Julia 1.3.0",
   "language": "julia",
   "name": "julia-1.3"
  },
  "language_info": {
   "file_extension": ".jl",
   "mimetype": "application/julia",
   "name": "julia",
   "version": "1.3.0"
  }
 },
 "nbformat": 4,
 "nbformat_minor": 4
}
