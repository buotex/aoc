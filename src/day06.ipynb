{
 "cells": [
  {
   "cell_type": "code",
   "execution_count": 4,
   "metadata": {},
   "outputs": [
    {
     "data": {
      "text/plain": [
       "314247"
      ]
     },
     "execution_count": 4,
     "metadata": {},
     "output_type": "execute_result"
    }
   ],
   "source": [
    "#  acyclic graphs\n",
    "using Test\n",
    "\n",
    "test_input = [uppercase(\"abc)def\"), uppercase(\"abc)blub\"), uppercase(\"com)abc\")]\n",
    "#  parse input into graph\n",
    "function create_graph(input::Array{String, 1})::Dict{String, Array{String, 1}}\n",
    "    hashtable = Dict{String, Array{String, 1}}()\n",
    "    for tokens in input\n",
    "        separated = split(tokens, \")\")\n",
    "        root = String(separated[1])\n",
    "        leaf = String(separated[2])\n",
    "        if haskey(hashtable, root)\n",
    "            push!(hashtable[root], leaf)\n",
    "        else\n",
    "            hashtable[root] = [leaf]\n",
    "        end\n",
    "            \n",
    "    end\n",
    "    return hashtable\n",
    "end\n",
    "function count_orbits(graph::Dict{String,Array{String, 1}})::Int64\n",
    "    #  Starting at com\n",
    "    search_tree::Array = [(node=\"COM\", depth=0)]\n",
    "    overall_count = 0\n",
    "    while length(search_tree) > 0\n",
    "        current_element = popfirst!(search_tree)\n",
    "        overall_count += current_element.depth\n",
    "        if current_element.node in keys(graph)\n",
    "            for value in graph[current_element.node]\n",
    "                new_elem = (node=value, depth=current_element.depth + 1)\n",
    "                push!(search_tree, new_elem)\n",
    "            end\n",
    "         \n",
    "        end\n",
    "    end\n",
    "    overall_count\n",
    "end\n",
    "\n",
    "@test create_graph([\"COM)B\", \"COM)C\"]) == Dict(\"COM\" => [\"B\", \"C\"])\n",
    "\n",
    "test_data2 = [\n",
    "\"COM)B\",\n",
    "\"B)C\",\n",
    "\"C)D\",\n",
    "\"D)E\",\n",
    "\"E)F\",\n",
    "\"B)G\",\n",
    "\"G)H\",\n",
    "\"D)I\",\n",
    "\"E)J\",\n",
    "\"J)K\",\n",
    "\"K)L\"\n",
    "]\n",
    "#@test create_graph(test_data2) == Dict(\"COM\" => [\"B\", \"C\"])\n",
    "@test count_orbits(create_graph(test_data2)) == 42\n",
    "\n",
    "#@test count_orbits(create_graph(test_input)) == 3\n",
    "input_data = open(\"input06.txt\") do file\n",
    "    data = readlines(file)\n",
    "    data\n",
    "end\n",
    "#print(input_data)\n",
    "count_orbits(create_graph(input_data))"
   ]
  },
  {
   "cell_type": "code",
   "execution_count": 6,
   "metadata": {},
   "outputs": [
    {
     "data": {
      "text/plain": [
       "514"
      ]
     },
     "execution_count": 6,
     "metadata": {},
     "output_type": "execute_result"
    }
   ],
   "source": [
    "function create_dualgraph(input::Array{String, 1})::Dict{String, Array{String, 1}}\n",
    "    hashtable = Dict{String, Array{String, 1}}()\n",
    "    for tokens in input\n",
    "        separated = split(tokens, \")\")\n",
    "        root = String(separated[1])\n",
    "        leaf = String(separated[2])\n",
    "        if haskey(hashtable, root)\n",
    "            push!(hashtable[root], leaf)\n",
    "        else\n",
    "            hashtable[root] = [leaf]\n",
    "        end\n",
    "        if haskey(hashtable, leaf)\n",
    "            push!(hashtable[leaf], root)\n",
    "        else\n",
    "            hashtable[leaf] = [root]\n",
    "        end\n",
    "            \n",
    "    end\n",
    "    return hashtable\n",
    "end\n",
    "function you2san(graph::Dict{String,Array{String, 1}})::Int64\n",
    "    #  Starting at com\n",
    "    @assert haskey(graph, \"YOU\")\n",
    "    @assert haskey(graph, \"SAN\")\n",
    "    visited = Dict{String, Int64}()\n",
    "    start_star = graph[\"YOU\"][1]\n",
    "    \n",
    "    search_tree::Array = [(node=start_star, depth=0)]\n",
    "\n",
    "    overall_count = 0\n",
    "    while length(search_tree) > 0\n",
    "        current_element = popfirst!(search_tree)\n",
    "        if haskey(visited, current_element.node)\n",
    "            continue\n",
    "        else\n",
    "            visited[current_element.node] = current_element.depth\n",
    "        end\n",
    "        overall_count += current_element.depth\n",
    "        if current_element.node in keys(graph)\n",
    "            for value in graph[current_element.node]\n",
    "                if value == \"SAN\"\n",
    "                    return current_element.depth\n",
    "                end\n",
    "                new_elem = (node=value, depth=current_element.depth + 1)\n",
    "                push!(search_tree, new_elem)\n",
    "            end  \n",
    "        end\n",
    "    end\n",
    "    return -1\n",
    "end\n",
    "you2san(create_dualgraph(input_data))"
   ]
  },
  {
   "cell_type": "code",
   "execution_count": null,
   "metadata": {},
   "outputs": [],
   "source": [
    "? haskey"
   ]
  }
 ],
 "metadata": {
  "kernelspec": {
   "display_name": "Julia 1.3.0",
   "language": "julia",
   "name": "julia-1.3"
  },
  "language_info": {
   "file_extension": ".jl",
   "mimetype": "application/julia",
   "name": "julia",
   "version": "1.3.0"
  }
 },
 "nbformat": 4,
 "nbformat_minor": 4
}
