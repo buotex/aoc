{
 "cells": [
  {
   "cell_type": "code",
   "execution_count": 18,
   "metadata": {},
   "outputs": [
    {
     "data": {
      "text/plain": [
       "15000-element Array{Int64,1}:\n",
       " 2\n",
       " 2\n",
       " 2\n",
       " 2\n",
       " 2\n",
       " 2\n",
       " 2\n",
       " 2\n",
       " 2\n",
       " 2\n",
       " 2\n",
       " 2\n",
       " 2\n",
       " ⋮\n",
       " 0\n",
       " 0\n",
       " 0\n",
       " 2\n",
       " 2\n",
       " 1\n",
       " 2\n",
       " 1\n",
       " 1\n",
       " 1\n",
       " 0\n",
       " 2"
      ]
     },
     "execution_count": 18,
     "metadata": {},
     "output_type": "execute_result"
    }
   ],
   "source": [
    "input_data = open(\"input08.txt\") do file\n",
    "    all_numbers = Int64[]\n",
    "    data = readlines(file)\n",
    "    for line in data\n",
    "        entries = collect(line)\n",
    "        numbers = map(x->parse(Int64, x), entries)\n",
    "        append!(all_numbers, numbers)\n",
    "    end\n",
    "    all_numbers\n",
    "end\n"
   ]
  },
  {
   "cell_type": "code",
   "execution_count": 49,
   "metadata": {},
   "outputs": [
    {
     "data": {
      "text/plain": [
       "1560"
      ]
     },
     "execution_count": 49,
     "metadata": {},
     "output_type": "execute_result"
    }
   ],
   "source": [
    "import Base.@kwdef\n",
    "import Base.iterate\n",
    "using StatsBase\n",
    "@kwdef struct Image\n",
    "    data::Array{Int64, 1}\n",
    "    width::Int64\n",
    "    height::Int64\n",
    "end\n",
    "\n",
    "Base.iterate(I::Image, layer::Int64=0) = \n",
    "((layer+1) * I.width * I.height > length(I.data)) ? \n",
    "    nothing : \n",
    "    (I.data[1+layer*I.width*I.height:(layer+1)*I.width*I.height], layer+1)\n",
    "\n",
    "image = Image(data=input_data, width=25, height=6)\n",
    "\n",
    "function find_minimum_zero_count(image)\n",
    "    all_zero_counts = []\n",
    "    ones_twos_counts = []\n",
    "    for (i, layer) in enumerate(image)\n",
    "        counts = countmap(layer)\n",
    "        count_zero = counts[0]\n",
    "        push!(all_zero_counts, count_zero)\n",
    "        push!(ones_twos_counts, (counts[1], counts[2]))\n",
    "    end\n",
    "    minimum_zeros = argmin(all_zero_counts)\n",
    "    x = ones_twos_counts[minimum_zeros]\n",
    "    x[1] * x[2]\n",
    "end\n",
    "find_minimum_zero_count(image)"
   ]
  },
  {
   "cell_type": "code",
   "execution_count": 81,
   "metadata": {},
   "outputs": [
    {
     "name": "stdout",
     "output_type": "stream",
     "text": [
      "[1, 0, 0, 1, 0, 0, 1, 1, 0, 0, 0, 1, 1, 0, 0, 1, 0, 0, 1, 0, 1, 0, 0, 1, 0, 1, 0, 0, 1, 0, 1, 0, 0, 1, 0, 1, 0, 0, 1, 0, 1, 0, 0, 1, 0, 1, 0, 0, 1, 0, 1, 0, 0, 1, 0, 1, 0, 0, 0, 0, 1, 0, 0, 0, 0, 1, 0, 0, 1, 0, 1, 1, 1, 1, 0, 1, 0, 0, 1, 0, 1, 0, 1, 1, 0, 1, 0, 0, 0, 0, 1, 0, 0, 1, 0, 1, 0, 0, 1, 0, 1, 0, 0, 1, 0, 1, 0, 0, 1, 0, 1, 0, 0, 1, 0, 1, 0, 0, 1, 0, 1, 0, 0, 1, 0, 0, 1, 1, 0, 0, 0, 1, 1, 1, 0, 0, 1, 1, 0, 0, 0, 1, 1, 0, 0, 1, 0, 0, 1, 0]\n"
     ]
    },
    {
     "data": {
      "text/plain": [
       "6×25 LinearAlgebra.Transpose{Int64,Array{Int64,2}}:\n",
       " 1  0  0  1  0  0  1  1  0  0  0  1  1  0  0  1  0  0  1  0  1  0  0  1  0\n",
       " 1  0  0  1  0  1  0  0  1  0  1  0  0  1  0  1  0  0  1  0  1  0  0  1  0\n",
       " 1  0  0  1  0  1  0  0  0  0  1  0  0  0  0  1  0  0  1  0  1  1  1  1  0\n",
       " 1  0  0  1  0  1  0  1  1  0  1  0  0  0  0  1  0  0  1  0  1  0  0  1  0\n",
       " 1  0  0  1  0  1  0  0  1  0  1  0  0  1  0  1  0  0  1  0  1  0  0  1  0\n",
       " 0  1  1  0  0  0  1  1  1  0  0  1  1  0  0  0  1  1  0  0  1  0  0  1  0"
      ]
     },
     "execution_count": 81,
     "metadata": {},
     "output_type": "execute_result"
    }
   ],
   "source": [
    "function overlay(image)\n",
    "    combined_image = ones(Int8, image.width * image.height) * 2\n",
    "    for layer in image\n",
    "        where_cond = combined_image .== 2\n",
    "        combined_image[where_cond] = layer[where_cond]\n",
    "    end\n",
    "    combined_image\n",
    "end\n",
    "image_overlayed = overlay(image)\n",
    "println(image_overlayed)\n",
    "image_reshaped = transpose(reshape(image_overlayed, image.width, image.height))"
   ]
  },
  {
   "cell_type": "code",
   "execution_count": 80,
   "metadata": {},
   "outputs": [
    {
     "data": {
      "image/png": "[encoded data removed]"
     },
     "execution_count": 80,
     "metadata": {},
     "output_type": "execute_result"
    }
   ],
   "source": [
    "using Plots\n",
    "pyplot()\n",
    "heatmap(image_reshaped)\n"
   ]
  },
  {
   "cell_type": "code",
   "execution_count": null,
   "metadata": {},
   "outputs": [],
   "source": []
  }
 ],
 "metadata": {
  "kernelspec": {
   "display_name": "Julia 1.3.0",
   "language": "julia",
   "name": "julia-1.3"
  },
  "language_info": {
   "file_extension": ".jl",
   "mimetype": "application/julia",
   "name": "julia",
   "version": "1.3.0"
  }
 },
 "nbformat": 4,
 "nbformat_minor": 4
}
