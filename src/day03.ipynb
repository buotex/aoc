{
 "cells": [
  {
   "cell_type": "code",
   "execution_count": 9,
   "metadata": {},
   "outputs": [
    {
     "data": {
      "text/plain": [
       "2-element Array{Array{SubString{String},1},1}:\n",
       " [\"R998\", \"D934\", \"L448\", \"U443\", \"R583\", \"U398\", \"R763\", \"U98\", \"R435\", \"U984\"  …  \"D818\", \"R340\", \"D60\", \"L400\", \"D924\", \"R69\", \"U73\", \"L449\", \"U393\", \"L906\"]   \n",
       " [\"L1005\", \"D207\", \"R487\", \"U831\", \"R81\", \"U507\", \"R701\", \"D855\", \"R978\", \"U790\"  …  \"U647\", \"R774\", \"D575\", \"L753\", \"D294\", \"R131\", \"U318\", \"R873\", \"U114\", \"L30\"]"
      ]
     },
     "execution_count": 9,
     "metadata": {},
     "output_type": "execute_result"
    }
   ],
   "source": [
    "input_data = open(\"input03.txt\") do file\n",
    "    data = readlines(file)\n",
    "    entries = map(x -> split(x, \",\"), data)\n",
    "    #numbers = map(x->parse(Int64, x), entries)\n",
    "    #numbers\n",
    "    entries\n",
    "end"
   ]
  },
  {
   "cell_type": "code",
   "execution_count": 107,
   "metadata": {},
   "outputs": [
    {
     "ename": "LoadError",
     "evalue": "syntax: extra token \"inst1\" after end of expression",
     "output_type": "error",
     "traceback": [
      "syntax: extra token \"inst1\" after end of expression",
      ""
     ]
    }
   ],
   "source": [
    "struct Point\n",
    "    x::Int\n",
    "    y::Int\n",
    "end\n",
    "\n",
    "function parse_prefix(path::Array{Point, 1}, inst::String) :: Array{Point, 1}\n",
    "    prefix = inst[1]\n",
    "    current_ending = path[end]\n",
    "    distance = parse(Int64, inst[2:end])\n",
    "    if prefix == 'R'\n",
    "        push!(path, Point(current_ending.x+ distance, 0))\n",
    "    elseif prefix == 'L'\n",
    "        push!(path, Point(current_ending.x - distance, 0))\n",
    "\n",
    "    elseif prefix == 'D'\n",
    "        push!(path, Point(0, current_ending.y + distance))\n",
    "\n",
    "    elseif prefix == 'U'\n",
    "        push!(path, Point(0, current_ending.y - distance))\n",
    "    else\n",
    "        error(\"Somehow, prefix broken\")\n",
    "    end\n",
    "    return path\n",
    "end\n",
    "function orientation(inst::Tuple{Point, Point})\n",
    "    if inst[1].x == inst[2].x  # x stays the same\n",
    "        return 1\n",
    "    else\n",
    "        return 2\n",
    "    end\n",
    "    \n",
    "end\n",
    "\n",
    "function test_intersect(inst1::Tuple{Point, Point}, inst2::Tuple{Point, Point}) :: Tuple{Bool, Int64}\n",
    "    if orientation(inst1) == orientation(inst2)\n",
    "        if inst1[1][1] == inst2[1][1] #same x\n",
    "            x_dist = inst1[1]\n",
    "            if inst1[1][2] >= min(inst2[1][2], inst2[2][2]) and inst1[1][2] <= max(inst2[1][2], inst2[2][2]) \n",
    "                y_dist = inst1[1][2]\n",
    "                return (true, x_dist + y_dist )\n",
    "            elseif inst1[2][2] >= min(inst2[1][2], inst2[2][2]) and inst1[1][2] <= max(inst2[1][2], inst2[2][2]) \n",
    "                y_dist = inst1[2][2]\n",
    "                return (true, x_dist + y_dist )\n",
    "            end\n",
    "        end\n",
    "    end\n",
    "    return (false, 0)\n",
    "end\n",
    "\n",
    "\n",
    "\n",
    "function algorithm(input::Array{Array{String,1},1}) \n",
    "    inp1 = foldl(parse_prefix, input[1]; init=[(0,0)] )\n",
    "    inp2 = foldl(parse_prefix, input[2]; init=[(0,0)] )\n",
    "    for i = 1:length(inp1)-1\n",
    "        for j = 1:length(inp2)-1\n",
    "            entry1 = (inp1[i], inp1[i+1])\n",
    "            entry2 = (inp2[j], inp2[j+1])\n",
    "            check = test_intersect(entry1, entry2)\n",
    "            println(check)\n",
    "            #if check[1] == true\n",
    "            #    return check[2]\n",
    "            #end\n",
    "        end\n",
    "    end\n",
    "end\n"
   ]
  },
  {
   "cell_type": "code",
   "execution_count": 104,
   "metadata": {},
   "outputs": [
    {
     "name": "stdout",
     "output_type": "stream",
     "text": [
      "(false, 0)\n",
      "(false, 0)\n",
      "(false, 0)\n",
      "(false, 0)\n",
      "(false, 0)\n",
      "(false, 0)\n",
      "(false, 0)\n",
      "(false, 0)\n",
      "(false, 0)\n",
      "(false, 0)\n",
      "(false, 0)\n",
      "(false, 0)\n",
      "(false, 0)\n",
      "(false, 0)\n",
      "(false, 0)\n",
      "(false, 0)\n",
      "(false, 0)\n",
      "(false, 0)\n",
      "(false, 0)\n",
      "(false, 0)\n",
      "(false, 0)\n",
      "(false, 0)\n",
      "(false, 0)\n",
      "(false, 0)\n",
      "(false, 0)\n",
      "(false, 0)\n",
      "(false, 0)\n",
      "(false, 0)\n",
      "(false, 0)\n",
      "(false, 0)\n",
      "(false, 0)\n",
      "(false, 0)\n",
      "(false, 0)\n",
      "(false, 0)\n",
      "(false, 0)\n",
      "(false, 0)\n",
      "(false, 0)\n",
      "(false, 0)\n",
      "(false, 0)\n",
      "(false, 0)\n",
      "(false, 0)\n",
      "(false, 0)\n",
      "(false, 0)\n",
      "(false, 0)\n",
      "(false, 0)\n",
      "(false, 0)\n",
      "(false, 0)\n",
      "(false, 0)\n",
      "(false, 0)\n",
      "(false, 0)\n",
      "(false, 0)\n",
      "(false, 0)\n",
      "(false, 0)\n",
      "(false, 0)\n",
      "(false, 0)\n",
      "(false, 0)\n",
      "(false, 0)\n",
      "(false, 0)\n",
      "(false, 0)\n",
      "(false, 0)\n",
      "(false, 0)\n",
      "(false, 0)\n",
      "(false, 0)\n",
      "(false, 0)\n",
      "(false, 0)\n",
      "(false, 0)\n",
      "(false, 0)\n",
      "(false, 0)\n",
      "(false, 0)\n",
      "(false, 0)\n",
      "(false, 0)\n",
      "(false, 0)\n",
      "\u001b[91m\u001b[1mTest Failed\u001b[22m\u001b[39m at \u001b[39m\u001b[1mIn[104]:4\u001b[22m\n",
      "  Expression: algorithm(example_input) == 159\n",
      "   Evaluated: nothing == 159\n"
     ]
    },
    {
     "ename": "Test.FallbackTestSetException",
     "evalue": "There was an error during testing",
     "output_type": "error",
     "traceback": [
      "There was an error during testing",
      "",
      "Stacktrace:",
      " [1] record(::Test.FallbackTestSet, ::Test.Fail) at /buildworker/worker/package_linux64/build/usr/share/julia/stdlib/v1.3/Test/src/Test.jl:730",
      " [2] do_test(::Test.Returned, ::Expr) at /buildworker/worker/package_linux64/build/usr/share/julia/stdlib/v1.3/Test/src/Test.jl:519",
      " [3] top-level scope at In[104]:4"
     ]
    }
   ],
   "source": [
    "using Test\n",
    "example_input = [[\"R75\",\"D30\",\"R83\",\"U83\",\"L12\",\"D49\",\"R71\",\"U7\",\"L72\"],\n",
    "[\"U62\",\"R66\",\"U55\",\"R34\",\"D71\",\"R55\",\"D58\",\"R83\"]]\n",
    "@test algorithm(example_input) == 159"
   ]
  },
  {
   "cell_type": "code",
   "execution_count": 105,
   "metadata": {},
   "outputs": [
    {
     "ename": "LoadError",
     "evalue": "syntax: incomplete: premature end of input",
     "output_type": "error",
     "traceback": [
      "syntax: incomplete: premature end of input",
      ""
     ]
    }
   ],
   "source": [
    "Point ?"
   ]
  },
  {
   "cell_type": "code",
   "execution_count": null,
   "metadata": {},
   "outputs": [],
   "source": []
  }
 ],
 "metadata": {
  "kernelspec": {
   "display_name": "Julia 1.3.0",
   "language": "julia",
   "name": "julia-1.3"
  },
  "language_info": {
   "file_extension": ".jl",
   "mimetype": "application/julia",
   "name": "julia",
   "version": "1.3.0"
  }
 },
 "nbformat": 4,
 "nbformat_minor": 4
}
