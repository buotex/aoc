{
 "cells": [
  {
   "cell_type": "code",
   "execution_count": 6,
   "metadata": {},
   "outputs": [
    {
     "name": "stdout",
     "output_type": "stream",
     "text": [
      "1716\n",
      "1163\n"
     ]
    }
   ],
   "source": [
    "using Test\n",
    "function checkSecure(number)\n",
    "    numberDigits = reverse(digits(number))\n",
    "    checkDouble = false\n",
    "    for i in 1:5\n",
    "        if numberDigits[i+1] < numberDigits[i] \n",
    "            return false\n",
    "        end\n",
    "        if numberDigits[i+1] == numberDigits[i]\n",
    "            checkDouble = true\n",
    "        end\n",
    "    end\n",
    "    return checkDouble\n",
    "end\n",
    "\n",
    "function checkSecure2(number)\n",
    "    numberDigits = reverse(digits(number))\n",
    "    checkDouble = false\n",
    "    for i in 1:5\n",
    "        if numberDigits[i+1] < numberDigits[i] \n",
    "            return false\n",
    "        end\n",
    "        if numberDigits[i+1] == numberDigits[i]\n",
    "            if (i == 1 || numberDigits[i-1] != numberDigits[i]) &&\n",
    "                (i == 5 || numberDigits[i+2] != numberDigits[i])\n",
    "                checkDouble = true\n",
    "            end\n",
    "        end\n",
    "    end\n",
    "    return checkDouble\n",
    "end\n",
    "\n",
    "function countUnique(lower, upper, func)\n",
    "    counter = 0\n",
    "    for i = lower:upper\n",
    "        if func(i)\n",
    "            counter += 1\n",
    "        end\n",
    "        #println(i, checkSecure(i))\n",
    "    end\n",
    "    return counter\n",
    "end\n",
    "\n",
    "\n",
    "@test checkSecure(111111) == true\n",
    "@test checkSecure(223450) == false\n",
    "@test checkSecure(123789) == false\n",
    "@test checkSecure(167899) == true\n",
    "\n",
    "@test checkSecure2(123444) == false\n",
    "@test checkSecure2(111122) == true\n",
    "\n",
    "println(countUnique(165432, 707912, checkSecure))\n",
    "println(countUnique(165432, 707912, checkSecure2))"
   ]
  },
  {
   "cell_type": "code",
   "execution_count": null,
   "metadata": {},
   "outputs": [],
   "source": []
  }
 ],
 "metadata": {
  "kernelspec": {
   "display_name": "Julia 1.3.0",
   "language": "julia",
   "name": "julia-1.3"
  },
  "language_info": {
   "file_extension": ".jl",
   "mimetype": "application/julia",
   "name": "julia",
   "version": "1.3.0"
  }
 },
 "nbformat": 4,
 "nbformat_minor": 4
}
